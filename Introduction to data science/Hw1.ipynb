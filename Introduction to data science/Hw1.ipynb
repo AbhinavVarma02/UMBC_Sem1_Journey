{
  "cells": [
    {
      "cell_type": "markdown",
      "id": "e5a887ef-331f-4c8a-a331-2281000476fd",
      "metadata": {
        "id": "e5a887ef-331f-4c8a-a331-2281000476fd"
      },
      "source": [
        "## DATA 601 - Fall 2024\n",
        "### Homework Assignment 1\n",
        "Total points : 30<br>\n",
        " Please provide your solutions into the cells provided after question cells. You can create new cells as needed. <br>"
      ]
    },
    {
      "cell_type": "markdown",
      "id": "51b80ca6-8730-4075-8a97-e41887c3cabd",
      "metadata": {
        "id": "51b80ca6-8730-4075-8a97-e41887c3cabd"
      },
      "source": [
        "<b>Question 1</b> [<span style=\"color: red;\">2 points</span>]: Calculate and print $\\sec(\\pi/4)$ in python by using the <code>math</code> library but without using the <code>sec</code> function. Hint: Can you use any other trigonometric functions?"
      ]
    },
    {
      "cell_type": "code",
      "execution_count": 3,
      "id": "82070132-b20b-4309-9bfa-6343601d33a4",
      "metadata": {
        "colab": {
          "base_uri": "https://localhost:8080/"
        },
        "id": "82070132-b20b-4309-9bfa-6343601d33a4",
        "outputId": "2726f4ce-68a4-43f6-f3ac-44ac65b86090"
      },
      "outputs": [
        {
          "output_type": "stream",
          "name": "stdout",
          "text": [
            "1.41421\n"
          ]
        }
      ],
      "source": [
        "#Your code goes here, make more cells if needed\n",
        "import math\n",
        "# sec = 1/cos\n",
        "secant_pi_4 = 1/math.cos(math.pi/4)\n",
        "print(round(secant_pi_4,5))\n",
        "\n"
      ]
    },
    {
      "cell_type": "markdown",
      "id": "e1f9d94b-4d9b-48a1-9744-6d107e3f3099",
      "metadata": {
        "id": "e1f9d94b-4d9b-48a1-9744-6d107e3f3099"
      },
      "source": [
        "<b>Question 2</b> [<span style=\"color: red;\">8 points</span>]: Consider the <code>price_dollars</code> string."
      ]
    },
    {
      "cell_type": "code",
      "execution_count": 4,
      "id": "96a8355e-2dcb-4d57-833e-11b7f2871030",
      "metadata": {
        "id": "96a8355e-2dcb-4d57-833e-11b7f2871030"
      },
      "outputs": [],
      "source": [
        "prices_dollars = \"$100,$200,$87,$500\""
      ]
    },
    {
      "cell_type": "markdown",
      "id": "3b3fdc0f-02a2-4746-8c0c-c2d1b222d6f0",
      "metadata": {
        "id": "3b3fdc0f-02a2-4746-8c0c-c2d1b222d6f0"
      },
      "source": [
        "Create a string called <code>price_yen</code> where you will:\n",
        "- Replace the dollar sign to a [JPY yen sign](https://en.wikipedia.org/wiki/Yen_and_yuan_sign)\n",
        "and\n",
        "- Replace the numbers in USD with its price in yen. Use the exchange rate of the day (mention the exchange rate and day in comment). Round of to two digits after the decimal point."
      ]
    },
    {
      "cell_type": "code",
      "execution_count": 12,
      "id": "a311c07c-4f56-4607-acda-0484db6a7473",
      "metadata": {
        "colab": {
          "base_uri": "https://localhost:8080/"
        },
        "id": "a311c07c-4f56-4607-acda-0484db6a7473",
        "outputId": "33f6053e-dc70-4079-99d4-f41f29a35dea"
      },
      "outputs": [
        {
          "output_type": "stream",
          "name": "stdout",
          "text": [
            "\"¥14187.0,¥28374.0,¥12342.69,¥70935.0\"\n"
          ]
        }
      ],
      "source": [
        "#Your code goes here, make more cells if needed\n",
        "\n",
        "prices_dollars = \"$100,$200,$87,$500\"\n",
        "\n",
        "price_yen = prices_dollars.replace(\"$\", \"\").split(\",\")\n",
        "\n",
        "# Exchange rate on date : 09/18/2024\n",
        "exchangerate = 141.87\n",
        "\n",
        "\n",
        "prices_list = []\n",
        "for ele in range(len(price_yen)):\n",
        "  # formatting the string by adding ¥ and rounding of to 2 decimal places\n",
        "    prices_list.append(f\"¥{str(round(float(price_yen[ele]) * exchangerate, 2))}\")\n",
        "\n",
        "# Join the prices into a single string\n",
        "price_string = \",\".join(prices_list)\n",
        "\n",
        "#making string similar to given prices_dollars\n",
        "final_string = f'\"{price_string}\"'\n",
        "\n",
        "print(final_string)\n",
        "\n",
        "\n",
        "\n",
        "\n"
      ]
    },
    {
      "cell_type": "markdown",
      "id": "f1dd5ff0-2663-4b2b-acf4-50b55b17051e",
      "metadata": {
        "id": "f1dd5ff0-2663-4b2b-acf4-50b55b17051e"
      },
      "source": [
        "<b>Question 3</b> [<span style=\"color: red;\">10 points</span>]: For this question, you will need to install the <code>names</code> package (Reference [here](https://pypi.org/project/names/)). After a successful installation, import the module first, then use the \"get_first_name\" function in the \"names\" module and create a list of 10 first-names. Name of this list should be \"fname\". Similarly, use  the \"get_last_name\" function from the same module and create a list of 10 last-names (list name should be \"lname\").\n",
        "1. Print your list and make sure that you indeed have 10 names in your lists.\n",
        "2. Remove the first \"first-name\" from your \"fname\" list.\n",
        "3. Add a last-name to the end of \"lname\" and remove the first item in the same list.\n",
        "4. Insert a new first-name between the second-last and last items in the \"fname\" list.\n",
        "5. Generate three random first names, print them, and then add three first names at the end of your \"fname\" list using the \"append\" command."
      ]
    },
    {
      "cell_type": "code",
      "execution_count": 7,
      "id": "3dd801fe-2c59-472a-843c-1e7ae831b033",
      "metadata": {
        "colab": {
          "base_uri": "https://localhost:8080/"
        },
        "id": "3dd801fe-2c59-472a-843c-1e7ae831b033",
        "outputId": "50fb6d15-2668-4517-df1b-d2dc9f2da317"
      },
      "outputs": [
        {
          "output_type": "stream",
          "name": "stdout",
          "text": [
            "Collecting names\n",
            "  Downloading names-0.3.0.tar.gz (789 kB)\n",
            "\u001b[2K     \u001b[90m━━━━━━━━━━━━━━━━━━━━━━━━━━━━━━━━━━━━━━━━\u001b[0m \u001b[32m789.1/789.1 kB\u001b[0m \u001b[31m4.4 MB/s\u001b[0m eta \u001b[36m0:00:00\u001b[0m\n",
            "\u001b[?25h  Preparing metadata (setup.py) ... \u001b[?25l\u001b[?25hdone\n",
            "Building wheels for collected packages: names\n",
            "  Building wheel for names (setup.py) ... \u001b[?25l\u001b[?25hdone\n",
            "  Created wheel for names: filename=names-0.3.0-py3-none-any.whl size=803682 sha256=b3dd8bc43ee6fdf3b7c291eb5a43331836740fe6d0b0d6baba91e475a910e3b3\n",
            "  Stored in directory: /root/.cache/pip/wheels/fc/9a/6f/78f4282bbcaa2d8c678b73c54c0bb1b7a04009f0d7cec79fce\n",
            "Successfully built names\n",
            "Installing collected packages: names\n",
            "Successfully installed names-0.3.0\n"
          ]
        }
      ],
      "source": [
        "!pip install names"
      ]
    },
    {
      "cell_type": "code",
      "execution_count": 11,
      "id": "bbfcd2c0-256d-4d85-9df1-7b8a03d1583c",
      "metadata": {
        "colab": {
          "base_uri": "https://localhost:8080/"
        },
        "id": "bbfcd2c0-256d-4d85-9df1-7b8a03d1583c",
        "outputId": "ab6f13bb-1a81-4c26-d895-34680b66335f"
      },
      "outputs": [
        {
          "output_type": "stream",
          "name": "stdout",
          "text": [
            "Original fname:  ['David', 'John', 'Terry', 'Malcom', 'William', 'Claude', 'Helen', 'Michael', 'Harry', 'Teresa']\n",
            "Original lname:  ['Herman', 'Whitehead', 'Rybowiak', 'Olivas', 'Roberts', 'Stewarts', 'Mcconnell', 'Doyle', 'Vaughn', 'Hardee']\n",
            "poping the first element in fname ['John', 'Terry', 'Malcom', 'William', 'Claude', 'Helen', 'Michael', 'Harry', 'Teresa']\n",
            "Removing 1st element of last name, inserting one more name at the end ['Whitehead', 'Rybowiak', 'Olivas', 'Roberts', 'Stewarts', 'Mcconnell', 'Doyle', 'Vaughn', 'Hardee', 'Havel']\n",
            "Inserting a new name just before last name : ['John', 'Terry', 'Malcom', 'William', 'Claude', 'Helen', 'Michael', 'Harry', 'Gregory', 'Teresa']\n",
            "Appending 3 random first names at the end: ['John', 'Terry', 'Malcom', 'William', 'Claude', 'Helen', 'Michael', 'Harry', 'Gregory', 'Teresa', 'Howard', 'John', 'Jeffrey']\n"
          ]
        }
      ],
      "source": [
        "#Your code goes here, make more cells if needed\n",
        "import names\n",
        "\n",
        "fname= []\n",
        "lname=[]\n",
        "\n",
        "#getting 10 random first names, last names in list\n",
        "for i in range(10):\n",
        "  fname_li = names.get_first_name()\n",
        "  lname_li = names.get_last_name()\n",
        "  fname.append(fname_li)\n",
        "  lname.append(lname_li)\n",
        "\n",
        "\n",
        "print(\"Original fname: \",fname)\n",
        "print(\"Original lname: \",lname)\n",
        "\n",
        "#deleting first name\n",
        "fname.pop(0)\n",
        "print(\"poping the first element in fname\", fname)\n",
        "\n",
        "#deleting last name\n",
        "lname.pop(0)\n",
        "lname.insert(len(lname),names.get_last_name())\n",
        "print(\"Removing 1st element of last name, inserting one more name at the end\",lname)\n",
        "\n",
        "#inserting between last and last but one.\n",
        "fname.insert(len(fname)-1,names.get_first_name())\n",
        "print(\"Inserting a new name just before last name :\",fname)\n",
        "\n",
        "#append at 3 names at end of fname.\n",
        "for i in range(3):\n",
        "  fname.append(names.get_first_name())\n",
        "print(\"Appending 3 random first names at the end:\",fname)"
      ]
    },
    {
      "cell_type": "markdown",
      "id": "02808bd2-d35a-47f1-b1bc-c510d7ad3b2c",
      "metadata": {
        "id": "02808bd2-d35a-47f1-b1bc-c510d7ad3b2c"
      },
      "source": [
        "<b>Question 4</b> [<span style=\"color: red;\">10 points</span>]:\n",
        "Using the loop(s) of your choice, print the following pattern:<br>\n",
        "- <b>Hint 1:</b> You will have to print out some blank spaces as well as stars\n",
        "- <b>Hint 2:</b> In order to print a star or space without a newline, use the parameter end=\"\" or end='' at the end of your print statement like this: <code>print('*', end='')</code>\n",
        "- <b>Hint 3:</b> Now that you've prevented the endlines from printing, if you want just an endline you can use: <code>print()</code>"
      ]
    },
    {
      "cell_type": "code",
      "execution_count": null,
      "id": "5d7c3bb1-5841-4ba3-84bc-c556ac8eec57",
      "metadata": {
        "id": "5d7c3bb1-5841-4ba3-84bc-c556ac8eec57"
      },
      "outputs": [],
      "source": [
        "\"\"\" <- ignore the comment\n",
        "*      *\n",
        " *    *\n",
        "  *  *\n",
        "   **\n",
        "   **\n",
        "  *  *\n",
        " *    *\n",
        "*      *\n",
        "\"\"\""
      ]
    },
    {
      "cell_type": "code",
      "execution_count": 10,
      "id": "f71affe9-e301-406a-8718-c7070cd58d01",
      "metadata": {
        "colab": {
          "base_uri": "https://localhost:8080/"
        },
        "id": "f71affe9-e301-406a-8718-c7070cd58d01",
        "outputId": "de51d4be-0866-47b3-cf3f-636aa1e349b9"
      },
      "outputs": [
        {
          "output_type": "stream",
          "name": "stdout",
          "text": [
            "*      *\n",
            " *    * \n",
            "  *  *  \n",
            "   **   \n",
            "   **   \n",
            "  *  *  \n",
            " *    * \n",
            "*      *\n"
          ]
        }
      ],
      "source": [
        "#Your code goes here, make more cells if needed\n",
        "length = 8\n",
        "for rows_x in range(0,8):\n",
        "    for cols_x in range(0,8):\n",
        "      # to check if we are at main or anti diagonal of pattern\n",
        "        if(rows_x == cols_x or cols_x == length - rows_x -1):\n",
        "            # if true print \"*\"\" , but not next line\n",
        "            print(\"*\",end='')\n",
        "        else:\n",
        "            # if false: print space, but not next line\n",
        "            print(\" \",end='')\n",
        "    # next line after each row is done.\n",
        "    print()"
      ]
    }
  ],
  "metadata": {
    "kernelspec": {
      "display_name": "data_601",
      "language": "python",
      "name": "data_601"
    },
    "language_info": {
      "codemirror_mode": {
        "name": "ipython",
        "version": 3
      },
      "file_extension": ".py",
      "mimetype": "text/x-python",
      "name": "python",
      "nbconvert_exporter": "python",
      "pygments_lexer": "ipython3",
      "version": "3.11.4"
    },
    "colab": {
      "provenance": [],
      "toc_visible": true
    }
  },
  "nbformat": 4,
  "nbformat_minor": 5
}