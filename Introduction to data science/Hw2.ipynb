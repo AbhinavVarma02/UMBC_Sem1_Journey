{
  "cells": [
    {
      "cell_type": "markdown",
      "id": "e5a887ef-331f-4c8a-a331-2281000476fd",
      "metadata": {
        "id": "e5a887ef-331f-4c8a-a331-2281000476fd"
      },
      "source": [
        "## DATA 601 - Fall 2024\n",
        "### Homework Assignment 2\n",
        "Total points : 30<br>\n",
        " Please provide your solutions into the cells provided after question cells. You can create new cells as needed. <br>"
      ]
    },
    {
      "cell_type": "markdown",
      "id": "9fefb24c-61ab-43ca-982c-c3d2edb48cc7",
      "metadata": {
        "id": "9fefb24c-61ab-43ca-982c-c3d2edb48cc7"
      },
      "source": [
        "<b>Question 1 </b> [<span style=\"color: red;\">10 points</span>]:\n",
        "Write a recursive function that calculates the dot product of two list vectors. Do not use <code>while</code> or <code>for</code> loops. Use your function for calculating the dot product $x.y$ (and print the result), where x and y are:"
      ]
    },
    {
      "cell_type": "code",
      "execution_count": 1,
      "id": "a67e8a10-de99-409b-8bf1-a1ebf050c8de",
      "metadata": {
        "id": "a67e8a10-de99-409b-8bf1-a1ebf050c8de"
      },
      "outputs": [],
      "source": [
        "#Call your function for this pair of x and y\n",
        "x = [2,2,1,4]\n",
        "y = [-6,-2,-1,3]"
      ]
    },
    {
      "cell_type": "code",
      "execution_count": 13,
      "id": "97716ada-2a81-4c11-8139-c18422bb5cc0",
      "metadata": {
        "colab": {
          "base_uri": "https://localhost:8080/"
        },
        "id": "97716ada-2a81-4c11-8139-c18422bb5cc0",
        "outputId": "938826f3-53de-49a7-a186-3c829e140df0"
      },
      "outputs": [
        {
          "output_type": "stream",
          "name": "stdout",
          "text": [
            "Dot product of x and y: -5\n"
          ]
        }
      ],
      "source": [
        "#Your answers go here\n",
        "def dot_product_recursive(x, y, index=0):\n",
        "    # Base case: if the index is out of range, return 0\n",
        "    if index == len(x):\n",
        "        return 0\n",
        "    # Recursive case: calculating dot product for the current index and recurse\n",
        "    return x[index] * y[index] + dot_product_recursive(x, y, index + 1)\n",
        "\n",
        "# Testing with given vectors x and y\n",
        "x = [2, 2, 1, 4]\n",
        "y = [-6, -2, -1, 3]\n",
        "\n",
        "# Calling the function and printing the result\n",
        "result = dot_product_recursive(x, y)\n",
        "print(\"Dot product of x and y:\", result)\n"
      ]
    },
    {
      "cell_type": "markdown",
      "id": "51b80ca6-8730-4075-8a97-e41887c3cabd",
      "metadata": {
        "id": "51b80ca6-8730-4075-8a97-e41887c3cabd"
      },
      "source": [
        "<b>Question 2 </b>[<span style=\"color: red;\">10 points</span>]:   Read the information below first :\n",
        "\n",
        "Consider the following format to define a monomial: <code>[-5,['x','y','z'],[1,2,1]]</code> $= -5xy^2z$ <br>\n",
        "where the first element of the list is the coefficient of the monomial, the next element is a sub-list that has all the variables involved in the monomial and the next element is another sub-list that has the degrees of all of the respective variables. <br>\n",
        "Eg: <code>[5,['x','y'],[2,1]]</code> $= 5x^2y$ , <code>[4,['z'],[3]]</code> $= 4z^3$, <code>[-10,['x','z'],[1,1]]</code> $= -10xz$ <br>\n",
        "\n",
        "Therefore, a polynomial will be a list of such monomials,\n",
        "Eg: <code>[[2,['x'],[3]], [-4,['x','y'],[1,2]],[1.5,['x','z'],[3,2]],[33,['x','y','z'],[2,2,1]]]</code> $= 2x^3 - 4xy^2 + 1.5x^3z^2  + 33x^2y^2z$\n",
        "\n",
        "---\n",
        "### Task:\n",
        "- Create a class called <code>Polynomial</code>. When an object of this class is created it should accept a polynomial as defined by the format above.\n",
        "- The class should contain a method called <code>eval_poly</code> where you will provide values for all of the variables invoved in the polynomail in a dictionary format. <code>E.g: {x: 2,y:-3,z:4}</code>\n",
        "- Use the class to make an object <code>p</code> with polyinfo as argument during initialization (defined down below)  and evaluate it with the values stored in var\\_vals. In this case,: <code>[[4,['x'],[1]], [6,['y'],[1]], [7,['z'],[2]], [-12,['x','y'],[1,1]], [10,['x','z'],[1,1]], [5,['x','y','z'],[1,1,2]]]</code> with  <code>{x: 3,y:-2,z:2}</code> will evaluate to $4(3) + 6(-2) +7(2)^2 -12(3)(-2) + 10(3)(2) + 5(3)(-2)(2)^2 = 40$. Print out the result"
      ]
    },
    {
      "cell_type": "code",
      "execution_count": 15,
      "id": "f71affe9-e301-406a-8718-c7070cd58d01",
      "metadata": {
        "colab": {
          "base_uri": "https://localhost:8080/"
        },
        "id": "f71affe9-e301-406a-8718-c7070cd58d01",
        "outputId": "60266e04-e7e3-4c34-981f-46eb35e9f379"
      },
      "outputs": [
        {
          "output_type": "stream",
          "name": "stdout",
          "text": [
            "Result of polynomial evaluation: 40\n"
          ]
        }
      ],
      "source": [
        "class Polynomial:\n",
        "    def __init__(self, polyinfo):\n",
        "        # Store the polynomial information (list of monomials)\n",
        "        self.polyinfo = polyinfo\n",
        "\n",
        "    # A helper method to evaluate a single monomial\n",
        "    def eval_monomial(self, monomial, var_vals):\n",
        "        coefficient = monomial[0]  # The coefficient of the monomial\n",
        "        variables = monomial[1]    # The list of variables in the monomial\n",
        "        degrees = monomial[2]      # The list of degrees for each variable\n",
        "\n",
        "        # Start the value of the monomial with its coefficient\n",
        "        monomial_value = coefficient\n",
        "\n",
        "        # Multiply by each variable raised to its respective power\n",
        "        for var, degree in zip(variables, degrees):\n",
        "            monomial_value *= var_vals[var] ** degree\n",
        "\n",
        "        return monomial_value\n",
        "\n",
        "    # Method to evaluate the entire polynomial\n",
        "    def eval_poly(self, var_vals):\n",
        "        total = 0  # Initialize the total sum of the polynomial\n",
        "\n",
        "        # Loop through each monomial in the polynomial and evaluate it\n",
        "        for monomial in self.polyinfo:\n",
        "            total += self.eval_monomial(monomial, var_vals)\n",
        "\n",
        "        return total\n",
        "\n",
        "# Define the polynomial as given in the problem\n",
        "polyinfo = [[4, ['x'], [1]], [6, ['y'], [1]], [7, ['z'], [2]],\n",
        "            [-12, ['x', 'y'], [1, 1]], [10, ['x', 'z'], [1, 1]],\n",
        "            [5, ['x', 'y', 'z'], [1, 1, 2]]]\n",
        "\n",
        "# Create an instance of the Polynomial class\n",
        "p = Polynomial(polyinfo)\n",
        "\n",
        "# Defining the variable values as given in the problem\n",
        "var_vals = {'x': 3, 'y': -2, 'z': 2}\n",
        "\n",
        "# Evaluating the polynomial with the provided variable values\n",
        "result = p.eval_poly(var_vals)\n",
        "\n",
        "# Print the result\n",
        "print(\"Result of polynomial evaluation:\", result)\n"
      ]
    },
    {
      "cell_type": "markdown",
      "id": "54570ec6-b29c-406e-8f92-9a092125c163",
      "metadata": {
        "id": "54570ec6-b29c-406e-8f92-9a092125c163"
      },
      "source": [
        "<b>Question 3</b> [<span style=\"color: red;\">10 points</span>] :\n",
        "\n",
        "- Make a class <code>Quadratic\\_Eq</code> that inherits from <code>Polynomial</code> class. This class will specifically take single variable quadratic polynomials, and will use the same constructor and <code>eval_poly</code> functions of the Polynomial class. But will have an additional method : <code>solve_quad</code>. that will return the solutions to the quadratic equation (refer to the notebook in <code>DATA_601_ctrlflw_suppl_nb</code>) from Week 2).\n",
        "\n",
        "- Create a static method that displays text on how to use this class.\n",
        "\n",
        "- Create a method <code>roots</code> with the @property decorator. This method internally calls <code>solve_quad</code> and then returns the roots from that to the user, but the user can now access this method as an attribute (because of the property decorator).\n",
        "\n",
        "After making the class solve the quadratic expression given in quadinfo, then use the solution values returned by <code>solve_quad</code> to evaluate the quadratic expression with <code>eval_poly</code>. Print out all results"
      ]
    },
    {
      "cell_type": "code",
      "execution_count": 22,
      "id": "a5051d02-fa0a-4cd1-ac5d-21637d308f85",
      "metadata": {
        "colab": {
          "base_uri": "https://localhost:8080/"
        },
        "id": "a5051d02-fa0a-4cd1-ac5d-21637d308f85",
        "outputId": "0949218a-448a-4b65-842e-95438420e9cd"
      },
      "outputs": [
        {
          "output_type": "stream",
          "name": "stdout",
          "text": [
            "Use Quadratic_Eq to solve quadratic equations and find roots.\n",
            "Roots of the quadratic equation: ((4+0j), (-3+0j))\n",
            "Evaluation of quadratic at root 1: 0j\n",
            "Evaluation of quadratic at root 2: 0j\n"
          ]
        }
      ],
      "source": [
        "from cmath import sqrt  # To handle complex roots\n",
        "\n",
        "# Polynomial base class\n",
        "class Polynomial:\n",
        "    def __init__(self, polyinfo):\n",
        "        self.polyinfo = polyinfo\n",
        "\n",
        "    def eval_poly(self, var_vals):\n",
        "        total = 0\n",
        "        for monomial in self.polyinfo:\n",
        "            coefficient, variables, degrees = monomial\n",
        "            monomial_value = coefficient\n",
        "            for var, degree in zip(variables, degrees):\n",
        "                monomial_value *= var_vals[var] ** degree\n",
        "            total += monomial_value\n",
        "        return total\n",
        "\n",
        "# Quadratic_Eq class that inherits from Polynomial\n",
        "class Quadratic_Eq(Polynomial):\n",
        "    def solve_quad(self):\n",
        "        # Extracting coefficients a (x^2), b (x), and c (constant)\n",
        "        a, b, c = 0, 0, 0\n",
        "        for monomial in self.polyinfo:\n",
        "            coefficient, variables, degrees = monomial\n",
        "            if degrees[0] == 2:\n",
        "                a = coefficient\n",
        "            elif degrees[0] == 1:\n",
        "                b = coefficient\n",
        "            elif degrees[0] == 0:\n",
        "                c = coefficient\n",
        "\n",
        "        # Solving using the quadratic formula\n",
        "        discriminant = b**2 - 4*a*c\n",
        "        root1 = (-b + sqrt(discriminant)) / (2*a)\n",
        "        root2 = (-b - sqrt(discriminant)) / (2*a)\n",
        "\n",
        "        return root1, root2\n",
        "\n",
        "    @property\n",
        "    def roots(self):\n",
        "        return self.solve_quad()\n",
        "\n",
        "    @staticmethod\n",
        "    def display_help():\n",
        "        print(\"Use Quadratic_Eq to solve quadratic equations and find roots.\")\n",
        "\n",
        "# Defining the quadratic expression: x^2 - x - 12\n",
        "quad_info = [[1, ['x'], [2]], [-1, ['x'], [1]], [-12, ['x'], [0]]]  # This is x^2 - x - 12\n",
        "\n",
        "# Create an instance of Quadratic_Eq class\n",
        "quad_eq = Quadratic_Eq(quad_info)\n",
        "\n",
        "# Display usage help\n",
        "Quadratic_Eq.display_help()\n",
        "\n",
        "# Solving the quadratic equation and printing the roots\n",
        "solutions = quad_eq.roots\n",
        "print(\"Roots of the quadratic equation:\", solutions)\n",
        "\n",
        "# Evaluating the quadratic expression at each root using eval_poly\n",
        "for idx, root in enumerate(solutions, 1):\n",
        "    result = quad_eq.eval_poly({'x': root})\n",
        "    print(f\"Evaluation of quadratic at root {idx}: {result}\")\n"
      ]
    }
  ],
  "metadata": {
    "kernelspec": {
      "display_name": "data_601",
      "language": "python",
      "name": "data_601"
    },
    "language_info": {
      "codemirror_mode": {
        "name": "ipython",
        "version": 3
      },
      "file_extension": ".py",
      "mimetype": "text/x-python",
      "name": "python",
      "nbconvert_exporter": "python",
      "pygments_lexer": "ipython3",
      "version": "3.11.4"
    },
    "colab": {
      "provenance": []
    }
  },
  "nbformat": 4,
  "nbformat_minor": 5
}